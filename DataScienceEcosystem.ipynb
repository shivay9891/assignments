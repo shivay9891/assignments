{
 "cells": [
  {
   "cell_type": "markdown",
   "id": "6df5b2be-4f74-40c9-9844-ac5f49e9c56e",
   "metadata": {},
   "source": [
    "# Data Science Tools and Ecosystem\n",
    "**H1 Style Heading**"
   ]
  },
  {
   "cell_type": "markdown",
   "id": "8d779cd1-d5fd-4db7-890a-0b231b0eb50b",
   "metadata": {},
   "source": [
    "### Introduction\n",
    "<p>In this notebook, Data Science Tools and Ecosystem are summarized.</p>"
   ]
  },
  {
   "cell_type": "markdown",
   "id": "f6bd16f4-9be3-468e-a187-548f7c7afd50",
   "metadata": {},
   "source": [
    "### Objectives:\n",
    "+ Popular languages that Data Scientists use\n",
    "+ Commonly used libraries used by Data Scientists\n",
    "+ Data Science Tools\n",
    "+ Arithmetic expressions in Python\n"
   ]
  },
  {
   "cell_type": "markdown",
   "id": "c3c61b7f-6e13-4dcf-a085-11a7ae088b0d",
   "metadata": {},
   "source": [
    "### Some of the popular languages that Data Scientists use are:\n",
    "1. Python\n",
    "2. SQL\n",
    "3. R"
   ]
  },
  {
   "cell_type": "markdown",
   "id": "5436fe6d-0ee3-44f6-abf9-2c1ac06d4441",
   "metadata": {},
   "source": [
    "### Some of the commonly used libraries used by Data Scientists include:\n",
    "1. Pandas\n",
    "2. Numpy\n",
    "3. Sklearn\n",
    "4. Tensorflow"
   ]
  },
  {
   "cell_type": "markdown",
   "id": "2b257cb0-a9db-44f5-90cf-1541b79d4f1a",
   "metadata": {},
   "source": [
    "### Data Science Tools\n",
    "\n",
    "|Data Science Tools|\n",
    "| ---------------- |\n",
    "| Apache Spark |\n",
    "| Apache Hadoop |\n",
    "| R Studio |\n",
    "| RapidMiner |\n",
    "| TensorFlow |"
   ]
  },
  {
   "cell_type": "markdown",
   "id": "2224b259-1a5e-4225-9970-584e5ee064ef",
   "metadata": {},
   "source": [
    "### Below are a few examples of evaluating arithmetic expressions in Python\n",
    "| Addition | Subtraction | Multiplication | Division |\n",
    "| -------- | ----------- | -------------- | -------- |\n",
    "| >>> a=10 | >>> a=10 | >>> a=10 | >>> a=10 |\n",
    "| >>> b=5 | >>> b=5 | >>> b=5 | >>> b=5 |\n",
    "| >>> a+b | >>> a=-b | >>> a * b | >>> a/b |\n",
    "| >>> 15 | >>> 5 | >>> 50 | >>> 2 |"
   ]
  },
  {
   "cell_type": "code",
   "execution_count": 2,
   "id": "8e0912f0-46e7-4d26-8c33-4b1661c1f3d9",
   "metadata": {},
   "outputs": [
    {
     "data": {
      "text/plain": [
       "17"
      ]
     },
     "execution_count": 2,
     "metadata": {},
     "output_type": "execute_result"
    }
   ],
   "source": [
    "# This a simple arithmetic expression to mutiply then add integers\n",
    "(3*4)+5"
   ]
  },
  {
   "cell_type": "code",
   "execution_count": 4,
   "id": "20dda087-0c7e-4d14-8960-c40e7db1104d",
   "metadata": {},
   "outputs": [
    {
     "data": {
      "text/plain": [
       "3.3333333333333335"
      ]
     },
     "execution_count": 4,
     "metadata": {},
     "output_type": "execute_result"
    }
   ],
   "source": [
    "# This will convert 200 minutes to hours by diving by 60\n",
    "\n",
    "minutes = 200\n",
    "hours= minutes/60\n",
    "hours"
   ]
  },
  {
   "cell_type": "markdown",
   "id": "ac346c88-fd7c-4219-aa4e-d74cd2d6c956",
   "metadata": {},
   "source": [
    "## Author\n",
    "Shiv Kumar"
   ]
  }
 ],
 "metadata": {
  "kernelspec": {
   "display_name": "Python 3 (ipykernel)",
   "language": "python",
   "name": "python3"
  },
  "language_info": {
   "codemirror_mode": {
    "name": "ipython",
    "version": 3
   },
   "file_extension": ".py",
   "mimetype": "text/x-python",
   "name": "python",
   "nbconvert_exporter": "python",
   "pygments_lexer": "ipython3",
   "version": "3.9.13"
  }
 },
 "nbformat": 4,
 "nbformat_minor": 5
}
